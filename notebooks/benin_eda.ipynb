{
 "cells": [
  {
   "cell_type": "code",
   "execution_count": 2,
   "id": "68da7182",
   "metadata": {},
   "outputs": [],
   "source": [
    "#Import Libraries\n",
    "import pandas as pd\n",
    "import numpy as np\n",
    "import matplotlib.pyplot as plt\n",
    "import seaborn as sns\n",
    "import plotly.express as px\n",
    "from scipy import stats\n",
    "import os"
   ]
  },
  {
   "cell_type": "code",
   "execution_count": 3,
   "id": "a6ee85c5",
   "metadata": {},
   "outputs": [],
   "source": [
    "#Load Data\n",
    "datasource=\"../data/benin-malanville.csv\"\n",
    "df = pd.read_csv(datasource);"
   ]
  },
  {
   "cell_type": "code",
   "execution_count": 9,
   "id": "6e4615d6",
   "metadata": {},
   "outputs": [
    {
     "name": "stdout",
     "output_type": "stream",
     "text": [
      "summary of the data (Data description)\n",
      "                 GHI            DNI            DHI           ModA  \\\n",
      "count  525600.000000  525600.000000  525600.000000  525600.000000   \n",
      "mean      240.559452     167.187516     115.358961     236.589496   \n",
      "std       331.131327     261.710501     158.691074     326.894859   \n",
      "min       -12.900000      -7.800000     -12.600000       0.000000   \n",
      "25%        -2.000000      -0.500000      -2.100000       0.000000   \n",
      "50%         1.800000      -0.100000       1.600000       4.500000   \n",
      "75%       483.400000     314.200000     216.300000     463.700000   \n",
      "max      1413.000000     952.300000     759.200000    1342.300000   \n",
      "\n",
      "                ModB           Tamb             RH             WS  \\\n",
      "count  525600.000000  525600.000000  525600.000000  525600.000000   \n",
      "mean      228.883576      28.179683      54.487969       2.121113   \n",
      "std       316.536515       5.924297      28.073069       1.603466   \n",
      "min         0.000000      11.000000       2.100000       0.000000   \n",
      "25%         0.000000      24.200000      28.800000       1.000000   \n",
      "50%         4.300000      28.000000      55.100000       1.900000   \n",
      "75%       447.900000      32.300000      80.100000       3.100000   \n",
      "max      1342.300000      43.800000     100.000000      19.500000   \n",
      "\n",
      "              WSgust        WSstdev             WD        WDstdev  \\\n",
      "count  525600.000000  525600.000000  525600.000000  525600.000000   \n",
      "mean        2.809195       0.473390     153.435172       8.582407   \n",
      "std         2.029120       0.273395     102.332842       6.385864   \n",
      "min         0.000000       0.000000       0.000000       0.000000   \n",
      "25%         1.300000       0.400000      59.000000       3.700000   \n",
      "50%         2.600000       0.500000     181.000000       8.600000   \n",
      "75%         4.100000       0.600000     235.100000      12.300000   \n",
      "max        26.600000       4.200000     360.000000      99.400000   \n",
      "\n",
      "                  BP       Cleaning  Precipitation          TModA  \\\n",
      "count  525600.000000  525600.000000  525600.000000  525600.000000   \n",
      "mean      994.197199       0.000923       0.001905      35.246026   \n",
      "std         2.474993       0.030363       0.037115      14.807258   \n",
      "min       985.000000       0.000000       0.000000       9.000000   \n",
      "25%       993.000000       0.000000       0.000000      24.200000   \n",
      "50%       994.000000       0.000000       0.000000      30.000000   \n",
      "75%       996.000000       0.000000       0.000000      46.900000   \n",
      "max      1003.000000       1.000000       2.500000      81.000000   \n",
      "\n",
      "               TModB  Comments  \n",
      "count  525600.000000       0.0  \n",
      "mean       32.471736       NaN  \n",
      "std        12.348743       NaN  \n",
      "min         8.100000       NaN  \n",
      "25%        23.600000       NaN  \n",
      "50%        28.900000       NaN  \n",
      "75%        41.500000       NaN  \n",
      "max        72.500000       NaN  \n"
     ]
    }
   ],
   "source": [
    "#summary of the data (Data description)\n",
    "#df.info()\n",
    "print(\"summary of the data (Data description)\")   \n",
    "print(df.describe())"
   ]
  },
  {
   "cell_type": "code",
   "execution_count": null,
   "id": "ff93da76",
   "metadata": {},
   "outputs": [],
   "source": [
    "#check for missing values\n",
    "print(\"check for missing values\")\n",
    "print(df.isnull().sum())\n",
    "#checking for valuese missed more than 5% of the data\n",
    "missing_values = df.isnull().sum() / len(df) * 100\n",
    "print(missing_values[missing_values > 5])\n"
   ]
  },
  {
   "cell_type": "code",
   "execution_count": null,
   "id": "1609536e",
   "metadata": {},
   "outputs": [],
   "source": []
  }
 ],
 "metadata": {
  "kernelspec": {
   "display_name": ".venv",
   "language": "python",
   "name": "python3"
  },
  "language_info": {
   "codemirror_mode": {
    "name": "ipython",
    "version": 3
   },
   "file_extension": ".py",
   "mimetype": "text/x-python",
   "name": "python",
   "nbconvert_exporter": "python",
   "pygments_lexer": "ipython3",
   "version": "3.12.3"
  }
 },
 "nbformat": 4,
 "nbformat_minor": 5
}
